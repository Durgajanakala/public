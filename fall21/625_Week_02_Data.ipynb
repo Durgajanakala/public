{
  "nbformat": 4,
  "nbformat_minor": 0,
  "metadata": {
    "colab": {
      "name": "625-Week-02-Data.ipynb",
      "provenance": [],
      "collapsed_sections": [],
      "toc_visible": true,
      "include_colab_link": true
    },
    "kernelspec": {
      "name": "python3",
      "display_name": "Python 3"
    }
  },
  "cells": [
    {
      "cell_type": "markdown",
      "metadata": {
        "id": "view-in-github",
        "colab_type": "text"
      },
      "source": [
        "<a href=\"https://colab.research.google.com/github/odu-cs625-datavis/public/blob/main/fall21/625_Week_02_Data.ipynb\" target=\"_parent\"><img src=\"https://colab.research.google.com/assets/colab-badge.svg\" alt=\"Open In Colab\"/></a>"
      ]
    },
    {
      "cell_type": "markdown",
      "metadata": {
        "id": "tV4fe0DCfd1a"
      },
      "source": [
        "# CS 625 - Week 02 - Data\n",
        "\n",
        "This notebook goes along with the [Week-02 Data slides](https://docs.google.com/presentation/d/145T_FJ_LiJgF3a_SpVAm16xXN5FtRWl1r1S-m2pSJPI/edit?usp=sharing) from [CS 625 Fall 2021](https://weiglemc.github.io/teaching/2021-fall-cs625)\n",
        "\n",
        "Google Colab tutorials and references:\n",
        "* [Overview of Colaboratory Features](https://colab.research.google.com/notebooks/basic_features_overview.ipynb)\n",
        "* [Welcome to Colaboratory](https://colab.research.google.com/notebooks/welcome.ipynb)\n",
        "* [Loading Data](https://colab.research.google.com/notebooks/io.ipynb)\n",
        "* [Colab and GitHub](https://colab.research.google.com/github/googlecolab/colabtools/blob/master/notebooks/colab-github-demo.ipynb)\n",
        "\n",
        "Python tutorial from CS 432/532\n",
        "* [slides](https://docs.google.com/presentation/d/1_BtQ5b7aG07xSw-BlcnCJT78qXxL2BqYEzug5Mz6cVU/edit?usp=sharing)\n",
        "* [Google Colab notebook](https://github.com/cs432-websci-fall20/assignments/blob/master/432_Week_02_Python.ipynb)"
      ]
    },
    {
      "cell_type": "markdown",
      "metadata": {
        "id": "4eglJSYHZcBE"
      },
      "source": [
        "## Regular Expressions"
      ]
    },
    {
      "cell_type": "code",
      "metadata": {
        "id": "WXN1GKkYZdTF",
        "colab": {
          "base_uri": "https://localhost:8080/"
        },
        "outputId": "76ebcbaa-8708-4381-bc2f-b3bb86b1135e"
      },
      "source": [
        "import re\n",
        "request = \"HEAD /foo HTTP/1.1\"\n",
        "pattern = re.compile(r\"^([A-Z]+)\\s+(\\S+)\\s+([A-Z0-9\\/\\.]+)$\")\n",
        "m = pattern.match(request)\n",
        "m.groups()"
      ],
      "execution_count": 1,
      "outputs": [
        {
          "output_type": "execute_result",
          "data": {
            "text/plain": [
              "('HEAD', '/foo', 'HTTP/1.1')"
            ]
          },
          "metadata": {},
          "execution_count": 1
        }
      ]
    },
    {
      "cell_type": "code",
      "metadata": {
        "id": "2ErVxj0m8RbH",
        "colab": {
          "base_uri": "https://localhost:8080/"
        },
        "outputId": "eb976f34-32c5-4269-8da6-8e10a14a7e3c"
      },
      "source": [
        "response = \"HTTP/1.1 200 OK\"\n",
        "pattern = re.compile(r\"^HTTP\\/[0-9]\\.[0-9]\\s+([0-9]+)[\\s+\\S+]+$\")\n",
        "m = pattern.match(response)\n",
        "m.groups()"
      ],
      "execution_count": 2,
      "outputs": [
        {
          "output_type": "execute_result",
          "data": {
            "text/plain": [
              "('200',)"
            ]
          },
          "metadata": {},
          "execution_count": 2
        }
      ]
    },
    {
      "cell_type": "markdown",
      "metadata": {
        "id": "KXPeS8vm4Xs9"
      },
      "source": [
        "## requests Library"
      ]
    },
    {
      "cell_type": "markdown",
      "metadata": {
        "id": "Ar26PymlBK-I"
      },
      "source": [
        "Accessing response headers"
      ]
    },
    {
      "cell_type": "code",
      "metadata": {
        "id": "ZW-YwJpd4bZd",
        "colab": {
          "base_uri": "https://localhost:8080/"
        },
        "outputId": "b2076109-8e47-42ea-e6c9-0511730e1134"
      },
      "source": [
        "import requests\n",
        "response = requests.get('http://example.com')\n",
        "\n",
        "print (\"Status Code: {}\".format(response.status_code))\n",
        "print (\"URI: {}\\n\".format(response.url))\n",
        "\n",
        "print (\"Headers: {}\\n\".format(response.headers))\n",
        "print (\"Date: {}\".format(response.headers['Date']))\n",
        "print (\"Content-Type: {}\".format(response.headers['Content-Type']))\n",
        "print (\"Content-Length: {}\".format(response.headers['Content-Length']))"
      ],
      "execution_count": 3,
      "outputs": [
        {
          "output_type": "stream",
          "text": [
            "Status Code: 200\n",
            "URI: http://example.com/\n",
            "\n",
            "Headers: {'Content-Encoding': 'gzip', 'Accept-Ranges': 'bytes', 'Age': '480719', 'Cache-Control': 'max-age=604800', 'Content-Type': 'text/html; charset=UTF-8', 'Date': 'Thu, 26 Aug 2021 20:12:19 GMT', 'Etag': '\"3147526947\"', 'Expires': 'Thu, 02 Sep 2021 20:12:19 GMT', 'Last-Modified': 'Thu, 17 Oct 2019 07:18:26 GMT', 'Server': 'ECS (agb/A431)', 'Vary': 'Accept-Encoding', 'X-Cache': 'HIT', 'Content-Length': '648'}\n",
            "\n",
            "Date: Thu, 26 Aug 2021 20:12:19 GMT\n",
            "Content-Type: text/html; charset=UTF-8\n",
            "Content-Length: 648\n"
          ],
          "name": "stdout"
        }
      ]
    },
    {
      "cell_type": "markdown",
      "metadata": {
        "id": "qPxXZz1GBOye"
      },
      "source": [
        "Using request query parameters"
      ]
    },
    {
      "cell_type": "code",
      "metadata": {
        "id": "dmAc9lVBBbVH",
        "colab": {
          "base_uri": "https://localhost:8080/"
        },
        "outputId": "118884a4-e547-4146-e8c2-68209be43472"
      },
      "source": [
        "import requests\n",
        "response = requests.get('http://google.com/search', params={'q': 'LSU'})\n",
        "print (\"URI requested: {}\".format(response.request.url))\n",
        "print (\"Status Code: {}\\n\".format(response.status_code))\n",
        "\n",
        "lines = response.text.splitlines() # split the string into a list, one line per element\n",
        "\n",
        "# use loop to only print first 5 lines of the response\n",
        "for i in range(5):\n",
        "  print(lines[i])"
      ],
      "execution_count": 4,
      "outputs": [
        {
          "output_type": "stream",
          "text": [
            "URI requested: http://www.google.com/search?q=LSU\n",
            "Status Code: 200\n",
            "\n",
            "<!doctype html><html lang=\"en\"><head><meta charset=\"UTF-8\"><meta content=\"/images/branding/googleg/1x/googleg_standard_color_128dp.png\" itemprop=\"image\"><title>LSU - Google Search</title><script nonce=\"RNrdCy0AB3Q/k98WVSWLig==\">(function(){\n",
            "document.documentElement.addEventListener(\"submit\",function(b){var a;if(a=b.target){var c=a.getAttribute(\"data-submitfalse\");a=\"1\"==c||\"q\"==c&&!a.elements.q.value?!0:!1}else a=!1;a&&(b.preventDefault(),b.stopPropagation())},!0);document.documentElement.addEventListener(\"click\",function(b){var a;a:{for(a=b.target;a&&a!=document.documentElement;a=a.parentElement)if(\"A\"==a.tagName){a=\"1\"==a.getAttribute(\"data-nohref\");break a}a=!1}a&&b.preventDefault()},!0);}).call(this);(function(){\n",
            "var a=window.performance;window.start=Date.now();a:{var b=window;if(a){var c=a.timing;if(c){var d=c.navigationStart,f=c.responseStart;if(f>d&&f<=window.start){window.start=f;b.wsrt=f-d;break a}}a.now&&(b.wsrt=Math.floor(a.now()))}}window.google=window.google||{};var h=function(g){g&&g.target.setAttribute(\"data-iml\",Date.now())};document.documentElement.addEventListener(\"load\",h,!0);google.rglh=function(){document.documentElement.removeEventListener(\"load\",h,!0)};}).call(this);(function(){\n",
            "var c=[],e=0;window.ping=function(b){-1==b.indexOf(\"&zx\")&&(b+=\"&zx=\"+Date.now());var a=new Image,d=e++;c[d]=a;a.onerror=a.onload=a.onabort=function(){delete c[d]};a.src=b};}).call(this);</script><style>body{margin:0 auto;max-width:736px;padding:0 8px;}a{color:#1967D2;text-decoration:none;tap-highlight-color:rgba(0,0,0,.10)}a:visited{color:#4B11A8}a:hover{text-decoration:underline}img{border:0}html{font-family:Roboto,Helvetica Neue,Arial,sans-serif;font-size:14px;line-height:20px;text-size-adjust:100%;color:#3c4043;word-wrap:break-word;background-color:#fff}.bRsWnc{background-color:#fff;border-top:1px solid #dadce0;height:39px;overflow:hidden}.N6RWV{height:51px;overflow-scrolling:touch;overflow-x:auto;overflow-y:hidden}.Uv67qb{box-pack:justify;font-size:12px;line-height:37px;justify-content:space-between;justify-content:space-between}.Uv67qb a,.Uv67qb span{color:#70757a;display:block;flex:none;padding:0 16px;text-align:center;text-transform:uppercase;}span.OXXup{border-bottom:2px solid #4285f4;color:#4285f4;font-weight:bold}a.eZt8xd:visited{color:#70757a}.FElbsf{border-left:1px solid rgba(0,0,0,.12)}header article{overflow:visible}.Pg70bf{height:39px;display:box;display:flex;display:flex;width:100%}.H0PQec{position:relative;flex:1}.sbc{display:flex;width:100%}.Pg70bf input{margin:2px 4px 2px 8px;}.x{width:26px;color:#70757a;font:27px/38px arial, sans-serif;line-height:40px;}#qdClwb{flex:0 0 auto;width:39px;height:39px;border-bottom:0;padding:0;border-top-right-radius:8px;background-color:#1a73e8;border:1px solid #1558d6;background-image:url(data:image/gif;base64,R0lGODdhJAAjAPIHAODr/nCk+MPZ/FmV96zK+/7+/5K5+kqL9iwAAAAAJAAjAEADani63P4wykmbKcQRXDscQAEMXmmeaLQVLCukzyC09AjfeK7v/MAajACLhPMVAgwjsUcEiZa8xgAYrVqv2Kx2iwsIAAABknfBBAKrTE4IcMyot8ur8datqIbQfJdnAfo2WE6BV05wXIiJigkAOw==);}.sc{font-size:16px;position:absolute;top:39px;left:0;right:0;box-shadow:0px 2px 5px rgba(0,0,0,.2);z-index:2;background-color:#fff}.sc>div{padding:10px 10px;padding-left:16px;padding-left:14px;border-top:1px solid #dfe1e5}.scs{background-color:#f8f9fa;}.noHIxc{display:block;font-size:16px;padding:0 0 0 8px;flex:1;height:35px;outline:none;border:none;width:100%;-webkit-tap-highlight-color:rgba(0,0,0,.00);overflow:hidden;}.sbc input[type=text]{background:none}.sml .cOl4Id{display:none}.l{display:none}.sml header{background:none}.sml .l{display:block;padding:0 8px}.sml .l{letter-spacing:-1px;text-align:center;border-radius:2px 0 0 0;font:22px/36px Futura, Arial, sans-serif;font-smoothing:antialiased}.bz1lBb{background:#fff;border-radius:8px 8px 0 0;box-shadow:0 1px 6px rgba(32, 33, 36, 0.18);margin-top:10px}.KP7LCb{border-radius:0 0 8px 8px;box-shadow:0 2px 3px rgba(32, 33, 36, 0.18);margin-bottom:10px;overflow:hidden}.cOl4Id{letter-spacing:-1px;text-align:center;font:22pt Futura, Arial, sans-serif;height:37px;font-smoothing:antialiased;padding:10px 0 5px 0;}.cOl4Id span{display:inline-block}.S591j{height:100%}.V6gwVd{color:#4285f4}.iWkuvd{color:#ea4335}.cDrQ7{color:#fcc934}.ntlR9{color:#34a853}.tJ3Myc{-webkit-transform:rotate(-20deg);position:relative;left:-1px;display:inline-block}footer{text-align:center;margin-top:18px}footer a,footer a:visited,.smiUbb{color:#70757a}.xeDNfc{margin:0 13px}#EOlPnc{margin-top:36px}#EOlPnc>div{margin:20px}.Srfpq{color:#70757a}</style></head><body jsmodel=\"TvHxbe\"><header id=\"hdr\"><script nonce=\"RNrdCy0AB3Q/k98WVSWLig==\">(function(){\n",
            "var k=this||self,l=function(){},m=function(a){var b=typeof a;return\"object\"==b&&null!=a||\"function\"==b},n=function(a,b){function c(){}c.prototype=b.prototype;a.l=b.prototype;a.prototype=new c;a.prototype.constructor=a;a.o=function(d,e,f){for(var g=Array(arguments.length-2),h=2;h<arguments.length;h++)g[h-2]=arguments[h];return b.prototype[e].apply(d,g)}};var p=Array.prototype.indexOf?function(a,b){return Array.prototype.indexOf.call(a,b,void 0)}:function(a,b){if(\"string\"===typeof a)return\"string\"!==typeof b||1!=b.length?-1:a.indexOf(b,0);for(var c=0;c<a.length;c++)if(c in a&&a[c]===b)return c;return-1};var q=function(a){return\"string\"==typeof a.className?a.className:a.getAttribute&&a.getAttribute(\"class\")||\"\"},r=function(a,b){\"string\"==typeof a.className?a.className=b:a.setAttribute&&a.setAttribute(\"class\",b)},t=function(a,b){a.classList?b=a.classList.contains(b):(a=a.classList?a.classList:q(a).match(/\\S+/g)||[],b=0<=p(a,b));return b},w=function(){var a=u,b=v;a.classList?a.classList.remove(b):t(a,b)&&r(a,Array.prototype.filter.call(a.classList?a.classList:q(a).match(/\\S+/g)||[],function(c){return c!=\n"
          ],
          "name": "stdout"
        }
      ]
    },
    {
      "cell_type": "markdown",
      "metadata": {
        "id": "8_wG_TQLDYA5"
      },
      "source": [
        "## Beautiful Soup Library"
      ]
    },
    {
      "cell_type": "markdown",
      "metadata": {
        "id": "ela1XItgECfO"
      },
      "source": [
        "*Print all the links (`a href=`) in a webpage*"
      ]
    },
    {
      "cell_type": "code",
      "metadata": {
        "id": "VRb3IvzJDZ0d",
        "colab": {
          "base_uri": "https://localhost:8080/"
        },
        "outputId": "6ff7b87f-f536-4e16-9a7a-bd70b08ba52b"
      },
      "source": [
        "from bs4 import BeautifulSoup\n",
        "import requests\n",
        "\n",
        "response = requests.get('http://google.com/search', params={'q': 'LSU'})\n",
        "\n",
        "soup = BeautifulSoup(response.text)\n",
        "for links in soup.find_all('a'):\n",
        "  print(links.get('href'))"
      ],
      "execution_count": 5,
      "outputs": [
        {
          "output_type": "stream",
          "text": [
            "/?sa=X&ved=0ahUKEwi5n_7hv8_yAhXERjABHU5fAIUQOwgC\n",
            "/?output=search&ie=UTF-8&sa=X&ved=0ahUKEwi5n_7hv8_yAhXERjABHU5fAIUQPAgE\n",
            "/search?q=LSU&ie=UTF-8&gbv=1&sei=qfUnYfmmFsSNwbkPzr6BqAg\n",
            "/search?q=LSU&ie=UTF-8&source=lnms&tbm=nws&sa=X&ved=0ahUKEwi5n_7hv8_yAhXERjABHU5fAIUQ_AUICCgB\n",
            "/search?q=LSU&ie=UTF-8&source=lnms&tbm=isch&sa=X&ved=0ahUKEwi5n_7hv8_yAhXERjABHU5fAIUQ_AUICSgC\n",
            "http://maps.google.com/maps?q=LSU&um=1&ie=UTF-8&sa=X&ved=0ahUKEwi5n_7hv8_yAhXERjABHU5fAIUQ_AUICigD\n",
            "/search?q=LSU&ie=UTF-8&source=lnms&tbm=vid&sa=X&ved=0ahUKEwi5n_7hv8_yAhXERjABHU5fAIUQ_AUICygE\n",
            "/search?q=LSU&ie=UTF-8&source=lnms&tbm=shop&sa=X&ved=0ahUKEwi5n_7hv8_yAhXERjABHU5fAIUQ_AUIDCgF\n",
            "/search?q=LSU&ie=UTF-8&source=lnms&tbm=bks&sa=X&ved=0ahUKEwi5n_7hv8_yAhXERjABHU5fAIUQ_AUIDSgG\n",
            "/advanced_search\n",
            "/search?q=LSU&ie=UTF-8&source=lnt&tbs=qdr:h&sa=X&ved=0ahUKEwi5n_7hv8_yAhXERjABHU5fAIUQpwUIDw\n",
            "/search?q=LSU&ie=UTF-8&source=lnt&tbs=qdr:d&sa=X&ved=0ahUKEwi5n_7hv8_yAhXERjABHU5fAIUQpwUIEA\n",
            "/search?q=LSU&ie=UTF-8&source=lnt&tbs=qdr:w&sa=X&ved=0ahUKEwi5n_7hv8_yAhXERjABHU5fAIUQpwUIEQ\n",
            "/search?q=LSU&ie=UTF-8&source=lnt&tbs=qdr:m&sa=X&ved=0ahUKEwi5n_7hv8_yAhXERjABHU5fAIUQpwUIEg\n",
            "/search?q=LSU&ie=UTF-8&source=lnt&tbs=qdr:y&sa=X&ved=0ahUKEwi5n_7hv8_yAhXERjABHU5fAIUQpwUIEw\n",
            "/search?q=LSU&ie=UTF-8&source=lnt&tbs=li:1&sa=X&ved=0ahUKEwi5n_7hv8_yAhXERjABHU5fAIUQpwUIFQ\n",
            "/url?q=https://www.lsu.edu/&sa=U&ved=2ahUKEwi5n_7hv8_yAhXERjABHU5fAIUQFnoECAoQAQ&usg=AOvVaw2MFUZ6e5NHgFJY1_2QJ-i9\n",
            "/url?q=https://www.lsu.edu/academics/index.php&sa=U&ved=2ahUKEwi5n_7hv8_yAhXERjABHU5fAIUQjBAwAXoECAoQBA&usg=AOvVaw3HrY-xo3F-F3NkjMloNA4o\n",
            "/url?q=https://www.lsu.edu/admission/index.php&sa=U&ved=2ahUKEwi5n_7hv8_yAhXERjABHU5fAIUQjBAwAnoECAoQBg&usg=AOvVaw3rLIqlywq-jpw7cjXOrHd2\n",
            "/url?q=https://www.lsu.edu/admission/apply.php&sa=U&ved=2ahUKEwi5n_7hv8_yAhXERjABHU5fAIUQjBAwA3oECAoQCA&usg=AOvVaw04sZcwy8Z1Ey3OqpeatJD5\n",
            "/url?q=https://www.lsu.edu/a-z.php&sa=U&ved=2ahUKEwi5n_7hv8_yAhXERjABHU5fAIUQjBAwBHoECAoQCg&usg=AOvVaw3C-hOnEPk902kxHIthxtiR\n",
            "http://maps.google.com/maps?um=1&ie=UTF-8&fb=1&gl=us&sa=X&geocode=KaMcDngjpyaGMVNUFGMuH7LN&daddr=Louisiana+State+University,+Baton+Rouge,+LA+70803&ved=2ahUKEwi5n_7hv8_yAhXERjABHU5fAIUQlDt6BAgLEAM\n",
            "/url?q=http://www.lsu.edu/&sa=U&ved=2ahUKEwi5n_7hv8_yAhXERjABHU5fAIUQgU96BAgLEAQ&usg=AOvVaw21Ch6vXhbKidaNrmaNjxTE\n",
            "/search?ie=UTF-8&q=LSU+Football&stick=H4sIAAAAAAAAAONgVuLUz9U3SMsosUwDAFk4aDoNAAAA&sa=X&ved=2ahUKEwi5n_7hv8_yAhXERjABHU5fAIUQ6RMwIHoECAcQAw\n",
            "/search?ie=UTF-8&q=LSU+Football&stick=H4sIAAAAAAAAAONgVuLUz9U3SMsosUwDAFk4aDoNAAAA&sa=X&ved=2ahUKEwi5n_7hv8_yAhXERjABHU5fAIUQ6RMwIHoECAcQBg\n",
            "/search?ie=UTF-8&q=LSU+Tigers+Basketball&stick=H4sIAAAAAAAAAONgVuLSz9U3MDJLKczKBQCh6nf4DgAAAA&sa=X&ved=2ahUKEwi5n_7hv8_yAhXERjABHU5fAIUQ6RMwIXoECAcQCA\n",
            "/search?ie=UTF-8&q=LSU+Tigers+Basketball&stick=H4sIAAAAAAAAAONgVuLSz9U3MDJLKczKBQCh6nf4DgAAAA&sa=X&ved=2ahUKEwi5n_7hv8_yAhXERjABHU5fAIUQ6RMwIXoECAcQCQ\n",
            "/url?q=https://www.theadvocate.com/baton_rouge/sports/lsu/article_01bb1b44-05fa-11ec-82d2-679b4e48083e.html&sa=U&ved=2ahUKEwi5n_7hv8_yAhXERjABHU5fAIUQ0PADMCJ6BAgCEAI&usg=AOvVaw0z-ppiZkUgBjBCaOQXmb82\n",
            "/url?q=https://www.wbrz.com/news/tailgating-to-return-to-lsu-games/&sa=U&ved=2ahUKEwi5n_7hv8_yAhXERjABHU5fAIUQ0PADMCN6BAgCEAY&usg=AOvVaw337p5d7HwJeUSSCNX7Ep8K\n",
            "/url?q=https://www.theadvocate.com/baton_rouge/sports/lsu/article_736722de-06a3-11ec-b19e-0fd992cbd385.html&sa=U&ved=2ahUKEwi5n_7hv8_yAhXERjABHU5fAIUQ0PADMCR6BAgCEAo&usg=AOvVaw3Fn9zX11xVQEog4Q54LEq5\n",
            "/url?q=https://deathvalleyvoice.com/2021/08/26/lsu-football-tigers-reportedly-lose-assistant-nfl/&sa=U&ved=2ahUKEwi5n_7hv8_yAhXERjABHU5fAIUQ0PADMCV6BAgCEA4&usg=AOvVaw0FKKxbWDplkQjwZSl4pmci\n",
            "/url?q=https://www.wbrz.com/news/lsu-and-usc-will-open-2024-football-season-in-las-vegas&sa=U&ved=2ahUKEwi5n_7hv8_yAhXERjABHU5fAIUQ0PADMCZ6BAgCEBI&usg=AOvVaw3eUrnR6UwWzhOZsezMSciW\n",
            "/url?q=https://www.theadvocate.com/baton_rouge/sports/lsu/article_d32ca724-05f0-11ec-a93c-13cd110b83df.html&sa=U&ved=2ahUKEwi5n_7hv8_yAhXERjABHU5fAIUQ0PADMCd6BAgCEBY&usg=AOvVaw0pg64po8i7Br-uO7wOvFWt\n",
            "/url?q=https://www.wafb.com/2021/08/24/proof-covid-19-vaccine-or-negative-test-required-enter-tiger-stadium/&sa=U&ved=2ahUKEwi5n_7hv8_yAhXERjABHU5fAIUQ0PADMCh6BAgCEBo&usg=AOvVaw2lP2y1_mpCt7w6qVPRl9ME\n",
            "/url?q=https://www.theadvocate.com/baton_rouge/sports/lsu/article_f4a9d722-0501-11ec-8a18-1facf648f716.html&sa=U&ved=2ahUKEwi5n_7hv8_yAhXERjABHU5fAIUQ0PADMCl6BAgCEB4&usg=AOvVaw0G3FiS23ccGeaPQgD23bCR\n",
            "/url?q=https://deadspin.com/papers-please-is-not-a-joke-and-lsu-s-vax-policy-is-1847558428&sa=U&ved=2ahUKEwi5n_7hv8_yAhXERjABHU5fAIUQ0PADMCp6BAgCECI&usg=AOvVaw1y0ZojmKCRz1H27mUmM4co\n",
            "/url?q=https://www.businessreport.com/coronavirus/lsu-details-how-it-will-enforce-new-vaccine-rules&sa=U&ved=2ahUKEwi5n_7hv8_yAhXERjABHU5fAIUQ0PADMCt6BAgCECY&usg=AOvVaw2k8XhKQrkMfO38ubG3Lqm-\n",
            "/url?q=https://twitter.com/LSU%3Fref_src%3Dtwsrc%255Egoogle%257Ctwcamp%255Eserp%257Ctwgr%255Eauthor&sa=U&ved=2ahUKEwi5n_7hv8_yAhXERjABHU5fAIUQ6F56BAgEEAI&usg=AOvVaw2SmOn35-_khKI74zH50CsQ\n",
            "/url?q=https://twitter.com/LSU/status/1430971501994467330%3Fref_src%3Dtwsrc%255Egoogle%257Ctwcamp%255Eserp%257Ctwgr%255Etweet&sa=U&ved=2ahUKEwi5n_7hv8_yAhXERjABHU5fAIUQglQwLXoECAQQBA&usg=AOvVaw30hBcntEpQwMvMgZa3u9rd\n",
            "/url?q=https://twitter.com/LSU/status/1430942019501887488%3Fref_src%3Dtwsrc%255Egoogle%257Ctwcamp%255Eserp%257Ctwgr%255Etweet&sa=U&ved=2ahUKEwi5n_7hv8_yAhXERjABHU5fAIUQglQwLnoECAQQBg&usg=AOvVaw22RLcGR_cgLSTszttv49na\n",
            "/url?q=https://twitter.com/LSU/status/1430637356034396161%3Fref_src%3Dtwsrc%255Egoogle%257Ctwcamp%255Eserp%257Ctwgr%255Etweet&sa=U&ved=2ahUKEwi5n_7hv8_yAhXERjABHU5fAIUQglQwL3oECAQQCA&usg=AOvVaw3bI_nDOgxF2OV5SbS0-ELK\n",
            "/url?q=https://twitter.com/LSU/status/1430622940991672321%3Fref_src%3Dtwsrc%255Egoogle%257Ctwcamp%255Eserp%257Ctwgr%255Etweet&sa=U&ved=2ahUKEwi5n_7hv8_yAhXERjABHU5fAIUQglQwMHoECAQQCg&usg=AOvVaw1A21SkfEAZGG7eliIe2Jy9\n",
            "/url?q=https://twitter.com/LSU/status/1430273961565200384%3Fref_src%3Dtwsrc%255Egoogle%257Ctwcamp%255Eserp%257Ctwgr%255Etweet&sa=U&ved=2ahUKEwi5n_7hv8_yAhXERjABHU5fAIUQglQwMXoECAQQDA&usg=AOvVaw1Ok5ybT4GTtsL1SJBCaM93\n",
            "/url?q=https://lsusports.net/&sa=U&ved=2ahUKEwi5n_7hv8_yAhXERjABHU5fAIUQFnoECAYQAQ&usg=AOvVaw3eAHtufygAgPSst9-rs7QU\n",
            "/url?q=https://www.facebook.com/geauxlsu/&sa=U&ved=2ahUKEwi5n_7hv8_yAhXERjABHU5fAIUQFnoECAEQAQ&usg=AOvVaw3tojsgm3mMAI5mFGKKSZb3\n",
            "/url?q=https://en.wikipedia.org/wiki/Louisiana_State_University&sa=U&ved=2ahUKEwi5n_7hv8_yAhXERjABHU5fAIUQFnoECAAQAQ&usg=AOvVaw05gKh4OqZoa8DdgDUW3ZEb\n",
            "/url?q=http://en.wikipedia.org/wiki/Urban_area&sa=U&ved=2ahUKEwi5n_7hv8_yAhXERjABHU5fAIUQs2Z6BAgAEAU&usg=AOvVaw2H1lsXbn3LzKRUj7cPbuJo\n",
            "/url?q=http://en.wikipedia.org/wiki/Louisiana_State_University&sa=U&ved=2ahUKEwi5n_7hv8_yAhXERjABHU5fAIUQs2Z6BAgAEAY&usg=AOvVaw2ERerEpV7G_TOH_raEvoM4\n",
            "http://www.google.com/search?ie=UTF-8&ei=qfUnYfmmFsSNwbkPzr6BqAg&q=LSU&tbm=isch&sa=X&ved=2ahUKEwi5n_7hv8_yAhXERjABHU5fAIUQsAR6BAgIEAE\n",
            "http://www.google.com/search?ie=UTF-8&ei=qfUnYfmmFsSNwbkPzr6BqAg&q=LSU&tbm=isch&sa=X&ved=2ahUKEwi5n_7hv8_yAhXERjABHU5fAIUQ7Al6BAgIEAI\n",
            "https://www.google.com/imgres?imgurl=https://lookaside.fbsbx.com/lookaside/crawler/media/?media_id%3D46201353493&imgrefurl=https://www.facebook.com/geauxlsu/&h=400&w=400&tbnid=cpAbquiQjgoOoM&q=LSU&tbnh=124&tbnw=124&usg=AI4_-kTlsareTIjXDfw7WKeuAA_SukRGHg&vet=1&docid=c3PMHnVVr51kpM&sa=X&ved=2ahUKEwi5n_7hv8_yAhXERjABHU5fAIUQ9QEwNnoECAgQBA\n",
            "https://www.google.com/imgres?imgurl=https://www.lsu.edu/mediacenter/mediaimages/2019/09/campusaerial.jpg&imgrefurl=https://www.lsu.edu/mediacenter/news/2019/09/09usnewsrankings.eb.php&h=1800&w=2700&tbnid=MKLAvBXa4iwG6M&q=LSU&tbnh=100&tbnw=150&usg=AI4_-kSNSrgyPmlhSwpKifefATLla071Pw&vet=1&docid=Dhyc7REEA46BeM&sa=X&ved=2ahUKEwi5n_7hv8_yAhXERjABHU5fAIUQ9QEwN3oECAgQBg\n",
            "https://www.google.com/imgres?imgurl=https://ewscripps.brightspotcdn.com/dims4/default/5c0f29f/2147483647/strip/true/crop/1280x720%2B0%2B93/resize/1280x720!/quality/90/?url%3Dhttp%253A%252F%252Fewscripps-brightspot.s3.amazonaws.com%252Fb9%252F4f%252F92c4997b48548cff2587c1781715%252Fmgn-1280x960-70530c00-efcbg.jpg&imgrefurl=https://www.katc.com/sports/lsu-sports/lsu-to-allow-tailgating-with-limitations-at-spring-outdoor-athletic-events&h=720&w=1280&tbnid=RsCkx5hWztW1hM&q=LSU&tbnh=84&tbnw=150&usg=AI4_-kTIvSx08QGYI7KNo_Zm451dI8l0dg&vet=1&docid=x1-mX_IzziJcEM&sa=X&ved=2ahUKEwi5n_7hv8_yAhXERjABHU5fAIUQ9QEwOHoECAgQCA\n",
            "https://www.google.com/imgres?imgurl=https://www.ece.lsu.edu/naraghi/GIF/LSU_Purple_RGB.png&imgrefurl=https://www.lsu.edu/&h=137&w=400&tbnid=9Z7fffRFKsb1YM&q=LSU&tbnh=42&tbnw=124&usg=AI4_-kSpvfOkuNC0wHoQJuBY_bIK4JFOcA&vet=1&docid=SwR-dAq3MzMN9M&sa=X&ved=2ahUKEwi5n_7hv8_yAhXERjABHU5fAIUQ9QEwOXoECAgQCg\n",
            "https://www.google.com/imgres?imgurl=https://bloximages.newyork1.vip.townnews.com/theadvocate.com/content/tncms/assets/v3/editorial/c/1f/c1f71400-8c86-5cfd-8365-cf7b6d0d3016/5e08146d6450c.image.jpg?crop%3D1853%252C1042%252C0%252C38%26resize%3D1853%252C1042%26order%3Dcrop%252Cresize&imgrefurl=https://www.theadvocate.com/baton_rouge/sports/lsu/article_6ee5be8e-d8c1-11ea-8235-27df1b047715.html&h=1042&w=1853&tbnid=UOtC5yVOA0I1AM&q=LSU&tbnh=84&tbnw=150&usg=AI4_-kS3jq657rbu8p4IXIZmQFcjSGmIsg&vet=1&docid=bulJT3QJnGrOxM&sa=X&ved=2ahUKEwi5n_7hv8_yAhXERjABHU5fAIUQ9QEwOnoECAgQDA\n",
            "https://www.google.com/imgres?imgurl=https://images.radio.com/aiu-media/eyeoverlsu-hex-03-e3913fe6-2583-4175-b19c-bd55904d632f.png&imgrefurl=https://www.audacy.com/wwl/articles/wwl-and-radiocom-to-stream-lsu-football&h=1500&w=1501&tbnid=sX54_sMwNMA_cM&q=LSU&tbnh=150&tbnw=150&usg=AI4_-kSRYlzxTjBuKTQ9NolOOZUVb2BDxQ&vet=1&docid=NF5SgTkQhf3bMM&sa=X&ved=2ahUKEwi5n_7hv8_yAhXERjABHU5fAIUQ9QEwO3oECAgQDg\n",
            "http://www.google.com/search?ie=UTF-8&ei=qfUnYfmmFsSNwbkPzr6BqAg&q=LSU&tbm=isch&sa=X&ved=2ahUKEwi5n_7hv8_yAhXERjABHU5fAIUQ7Al6BAgIEA8\n",
            "/url?q=https://www.espn.com/college-football/team/_/id/99/lsu-tigers&sa=U&ved=2ahUKEwi5n_7hv8_yAhXERjABHU5fAIUQFnoECAUQAQ&usg=AOvVaw0RtZpO-vflHAMqIDjfzFWL\n",
            "/search?ie=UTF-8&q=LSU+football&sa=X&ved=2ahUKEwi5n_7hv8_yAhXERjABHU5fAIUQ1QIwPXoECAMQAg\n",
            "/search?ie=UTF-8&q=LSU+Tigers&sa=X&ved=2ahUKEwi5n_7hv8_yAhXERjABHU5fAIUQ1QIwPnoECAMQBA\n",
            "/search?ie=UTF-8&q=LSU+School&sa=X&ved=2ahUKEwi5n_7hv8_yAhXERjABHU5fAIUQ1QIwP3oECAMQBg\n",
            "/search?ie=UTF-8&q=LSU+ranking&sa=X&ved=2ahUKEwi5n_7hv8_yAhXERjABHU5fAIUQ1QIwQHoECAMQCA\n",
            "/search?ie=UTF-8&q=LSU+basketball&sa=X&ved=2ahUKEwi5n_7hv8_yAhXERjABHU5fAIUQ1QIwQXoECAMQCg\n",
            "/search?ie=UTF-8&q=LSU+Online&sa=X&ved=2ahUKEwi5n_7hv8_yAhXERjABHU5fAIUQ1QIwQnoECAMQDA\n",
            "/search?ie=UTF-8&q=LSU+Admissions+Portal&sa=X&ved=2ahUKEwi5n_7hv8_yAhXERjABHU5fAIUQ1QIwQ3oECAMQDg\n",
            "/search?ie=UTF-8&q=LSU+football+schedule&sa=X&ved=2ahUKEwi5n_7hv8_yAhXERjABHU5fAIUQ1QIwRHoECAMQEA\n",
            "/search?q=LSU&ie=UTF-8&ei=qfUnYfmmFsSNwbkPzr6BqAg&start=10&sa=N\n",
            "/url?q=http://support.google.com/websearch%3Fp%3Dws_settings_location%26hl%3Den&sa=U&ved=0ahUKEwi5n_7hv8_yAhXERjABHU5fAIUQty4IvAE&usg=AOvVaw3KhnIMfJ_rnI7z8VYcfmtm\n",
            "/url?q=https://accounts.google.com/ServiceLogin%3Fcontinue%3Dhttp://www.google.com/search%253Fq%253DLSU%26hl%3Den&sa=U&ved=0ahUKEwi5n_7hv8_yAhXERjABHU5fAIUQxs8CCL0B&usg=AOvVaw0TGYouszOB_QadjWcaW7m7\n",
            "http://www.google.com/preferences?hl=en&fg=1&sa=X&ved=0ahUKEwi5n_7hv8_yAhXERjABHU5fAIUQ5fUCCL4B\n",
            "http://policies.google.com/privacy?hl=en&fg=1\n",
            "http://policies.google.com/terms?hl=en&fg=1\n"
          ],
          "name": "stdout"
        }
      ]
    },
    {
      "cell_type": "markdown",
      "metadata": {
        "id": "SfIjQ3ZuHB3b"
      },
      "source": [
        "Filter URIs -- print only links that start with `/url?q=`, strip that off, and stop at first `&`\n",
        "\n",
        "Use https://regex101.com/ for testing the regex"
      ]
    },
    {
      "cell_type": "code",
      "metadata": {
        "id": "Cx75kk_WHBXF",
        "colab": {
          "base_uri": "https://localhost:8080/"
        },
        "outputId": "c21ff1b3-d8ce-424c-faf6-5e88ca79059c"
      },
      "source": [
        "from bs4 import BeautifulSoup\n",
        "import requests\n",
        "import re\n",
        "\n",
        "response = requests.get('http://google.com/search', params={'q': 'LSU'})\n",
        "\n",
        "pattern = re.compile('\\/url\\?q=([^&]+)')\n",
        "\n",
        "soup = BeautifulSoup(response.text)\n",
        "for links in soup.find_all('a'):\n",
        "  href = links.get('href')\n",
        "  m = pattern.match(href)\n",
        "  if (m != None):\n",
        "    print (m.groups()[0])"
      ],
      "execution_count": 6,
      "outputs": [
        {
          "output_type": "stream",
          "text": [
            "https://www.lsu.edu/\n",
            "https://www.lsu.edu/academics/index.php\n",
            "https://www.lsu.edu/admission/index.php\n",
            "https://www.lsu.edu/admission/apply.php\n",
            "https://www.lsu.edu/a-z.php\n",
            "http://www.lsu.edu/\n",
            "https://www.theadvocate.com/baton_rouge/sports/lsu/article_01bb1b44-05fa-11ec-82d2-679b4e48083e.html\n",
            "https://www.wbrz.com/news/tailgating-to-return-to-lsu-games/\n",
            "https://www.theadvocate.com/baton_rouge/sports/lsu/article_736722de-06a3-11ec-b19e-0fd992cbd385.html\n",
            "https://deathvalleyvoice.com/2021/08/26/lsu-football-tigers-reportedly-lose-assistant-nfl/\n",
            "https://www.wbrz.com/news/lsu-and-usc-will-open-2024-football-season-in-las-vegas\n",
            "https://www.theadvocate.com/baton_rouge/sports/lsu/article_d32ca724-05f0-11ec-a93c-13cd110b83df.html\n",
            "https://www.wafb.com/2021/08/24/proof-covid-19-vaccine-or-negative-test-required-enter-tiger-stadium/\n",
            "https://www.theadvocate.com/baton_rouge/sports/lsu/article_f4a9d722-0501-11ec-8a18-1facf648f716.html\n",
            "https://deadspin.com/papers-please-is-not-a-joke-and-lsu-s-vax-policy-is-1847558428\n",
            "https://www.businessreport.com/coronavirus/lsu-details-how-it-will-enforce-new-vaccine-rules\n",
            "https://twitter.com/LSU%3Fref_src%3Dtwsrc%255Egoogle%257Ctwcamp%255Eserp%257Ctwgr%255Eauthor\n",
            "https://twitter.com/LSU/status/1430971501994467330%3Fref_src%3Dtwsrc%255Egoogle%257Ctwcamp%255Eserp%257Ctwgr%255Etweet\n",
            "https://twitter.com/LSU/status/1430942019501887488%3Fref_src%3Dtwsrc%255Egoogle%257Ctwcamp%255Eserp%257Ctwgr%255Etweet\n",
            "https://twitter.com/LSU/status/1430637356034396161%3Fref_src%3Dtwsrc%255Egoogle%257Ctwcamp%255Eserp%257Ctwgr%255Etweet\n",
            "https://twitter.com/LSU/status/1430622940991672321%3Fref_src%3Dtwsrc%255Egoogle%257Ctwcamp%255Eserp%257Ctwgr%255Etweet\n",
            "https://twitter.com/LSU/status/1430273961565200384%3Fref_src%3Dtwsrc%255Egoogle%257Ctwcamp%255Eserp%257Ctwgr%255Etweet\n",
            "https://lsusports.net/\n",
            "https://www.facebook.com/geauxlsu/\n",
            "https://en.wikipedia.org/wiki/Louisiana_State_University\n",
            "http://en.wikipedia.org/wiki/Urban_area\n",
            "http://en.wikipedia.org/wiki/Louisiana_State_University\n",
            "https://www.espn.com/college-football/team/_/id/99/lsu-tigers\n",
            "http://support.google.com/websearch%3Fp%3Dws_settings_location%26hl%3Den\n",
            "https://accounts.google.com/ServiceLogin%3Fcontinue%3Dhttp://www.google.com/search%253Fq%253DLSU%26hl%3Den\n"
          ],
          "name": "stdout"
        }
      ]
    }
  ]
}