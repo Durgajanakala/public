{
  "nbformat": 4,
  "nbformat_minor": 0,
  "metadata": {
    "colab": {
      "name": "R - SODA API for VDH data.ipynb",
      "provenance": [],
      "collapsed_sections": [],
      "authorship_tag": "ABX9TyO2Z9qV3Q2Zl5ZLL9t6xIVX",
      "include_colab_link": true
    },
    "kernelspec": {
      "name": "ir",
      "display_name": "R"
    }
  },
  "cells": [
    {
      "cell_type": "markdown",
      "metadata": {
        "id": "view-in-github",
        "colab_type": "text"
      },
      "source": [
        "<a href=\"https://colab.research.google.com/github/odu-cs432-websci/public/blob/main/R_SODA_API_for_VDH_data.ipynb\" target=\"_parent\"><img src=\"https://colab.research.google.com/assets/colab-badge.svg\" alt=\"Open In Colab\"/></a>"
      ]
    },
    {
      "cell_type": "markdown",
      "metadata": {
        "id": "vSwr6fnhvoG3"
      },
      "source": [
        "# Using the SODA API to access data from the Virginia Open Data Portal\n",
        "\n",
        "For more information on using the API, visit the dataset page you're interested in and click the API button. It should provide links to the API docs for that dataset and the Developer Portal.\n",
        "\n",
        "In this example, we'll access the VDH COVID-19 Public Use Dataset - Cases, available at https://data.virginia.gov/Government/VDH-COVID-19-PublicUseDataset-Cases/bre9-aqqr. The dataset name, which we'll need for the API, is the last part of the URI, `bre9-aqqr`.\n",
        "\n",
        "As of Sep 29, 2021, this dataset had 74.7k rows and 7 columns, with each row representing the overall count of COVID-19 cases, hospitalizations, deaths for each locality in Virginia by report date since reporting began for this dataset.\n",
        "\n",
        "The following example is based the API docs for this dataset, available at https://dev.socrata.com/foundry/data.virginia.gov/bre9-aqqr, and the RSocrata repo at https://github.com/Chicago/RSocrata"
      ]
    },
    {
      "cell_type": "code",
      "metadata": {
        "id": "G3Z49BjoS5hp",
        "colab": {
          "base_uri": "https://localhost:8080/"
        },
        "outputId": "211a81f8-bb8c-4ffd-9c31-746cc4c3fc05"
      },
      "source": [
        "install.packages(\"RSocrata\")"
      ],
      "execution_count": 5,
      "outputs": [
        {
          "output_type": "stream",
          "name": "stderr",
          "text": [
            "Installing package into ‘/usr/local/lib/R/site-library’\n",
            "(as ‘lib’ is unspecified)\n",
            "\n"
          ]
        }
      ]
    },
    {
      "cell_type": "code",
      "metadata": {
        "id": "0Uscel_gwT4L"
      },
      "source": [
        "library(RSocrata)"
      ],
      "execution_count": 7,
      "outputs": []
    },
    {
      "cell_type": "code",
      "metadata": {
        "id": "0_-k6ZdQxC4j"
      },
      "source": [
        "vdhDataset <- \"bre9-aqqr\"\n",
        "fetchLimit <- 80000\n",
        "uri <- paste(\"https://data.virginia.gov/resource/\", vdhDataset, \".json?$limit=\", fetchLimit, sep=\"\")"
      ],
      "execution_count": 11,
      "outputs": []
    },
    {
      "cell_type": "code",
      "metadata": {
        "id": "zPR_pu86wCiF"
      },
      "source": [
        "df <- read.socrata(uri)"
      ],
      "execution_count": 17,
      "outputs": []
    },
    {
      "cell_type": "code",
      "metadata": {
        "colab": {
          "base_uri": "https://localhost:8080/"
        },
        "id": "nU7Oe_KIxyKt",
        "outputId": "25e2be7f-25f2-472f-d60b-5698fca04f94"
      },
      "source": [
        "str(df)"
      ],
      "execution_count": 18,
      "outputs": [
        {
          "output_type": "stream",
          "name": "stdout",
          "text": [
            "'data.frame':\t74879 obs. of  7 variables:\n",
            " $ report_date        : POSIXct, format: \"2020-03-17\" \"2020-03-17\" ...\n",
            " $ fips               : chr  \"51001\" \"51003\" \"51005\" \"51007\" ...\n",
            " $ locality           : chr  \"Accomack\" \"Albemarle\" \"Alleghany\" \"Amelia\" ...\n",
            " $ vdh_health_district: chr  \"Eastern Shore\" \"Thomas Jefferson\" \"Alleghany\" \"Piedmont\" ...\n",
            " $ total_cases        : chr  \"0\" \"0\" \"0\" \"0\" ...\n",
            " $ hospitalizations   : chr  \"0\" \"0\" \"0\" \"0\" ...\n",
            " $ deaths             : chr  \"0\" \"0\" \"0\" \"0\" ...\n"
          ]
        }
      ]
    }
  ]
}
